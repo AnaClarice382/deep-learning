{
  "nbformat": 4,
  "nbformat_minor": 0,
  "metadata": {
    "colab": {
      "provenance": [],
      "authorship_tag": "ABX9TyPOa+OXjZNH1eq+zj+lfPS0",
      "include_colab_link": true
    },
    "kernelspec": {
      "name": "python3",
      "display_name": "Python 3"
    },
    "language_info": {
      "name": "python"
    }
  },
  "cells": [
    {
      "cell_type": "markdown",
      "metadata": {
        "id": "view-in-github",
        "colab_type": "text"
      },
      "source": [
        "<a href=\"https://colab.research.google.com/github/AnaClarice382/deep-learning/blob/main/FashionMNIST.ipynb\" target=\"_parent\"><img src=\"https://colab.research.google.com/assets/colab-badge.svg\" alt=\"Open In Colab\"/></a>"
      ]
    },
    {
      "cell_type": "code",
      "execution_count": 2,
      "metadata": {
        "colab": {
          "base_uri": "https://localhost:8080/"
        },
        "id": "D579MJRkcNpm",
        "outputId": "8569c1cd-185a-4b56-9e9d-2afee8f15b42"
      },
      "outputs": [
        {
          "output_type": "stream",
          "name": "stdout",
          "text": [
            "Downloading data from https://storage.googleapis.com/tensorflow/tf-keras-datasets/train-labels-idx1-ubyte.gz\n",
            "29515/29515 [==============================] - 0s 0us/step\n",
            "Downloading data from https://storage.googleapis.com/tensorflow/tf-keras-datasets/train-images-idx3-ubyte.gz\n",
            "26421880/26421880 [==============================] - 0s 0us/step\n",
            "Downloading data from https://storage.googleapis.com/tensorflow/tf-keras-datasets/t10k-labels-idx1-ubyte.gz\n",
            "5148/5148 [==============================] - 0s 0us/step\n",
            "Downloading data from https://storage.googleapis.com/tensorflow/tf-keras-datasets/t10k-images-idx3-ubyte.gz\n",
            "4422102/4422102 [==============================] - 0s 0us/step\n"
          ]
        }
      ],
      "source": [
        "import tensorflow\n",
        "fashion_mnist = tensorflow.keras.datasets.fashion_mnist\n",
        "\n",
        "(X_train, y_train), (X_test, y_test) = fashion_mnist.load_data()"
      ]
    },
    {
      "cell_type": "code",
      "source": [
        "X_train.shape, X_test.shape"
      ],
      "metadata": {
        "colab": {
          "base_uri": "https://localhost:8080/"
        },
        "id": "RTkAYwsacWMf",
        "outputId": "0dab8445-3c7e-4c82-895b-af1d198eb0f3"
      },
      "execution_count": 3,
      "outputs": [
        {
          "output_type": "execute_result",
          "data": {
            "text/plain": [
              "((60000, 28, 28), (10000, 28, 28))"
            ]
          },
          "metadata": {},
          "execution_count": 3
        }
      ]
    },
    {
      "cell_type": "code",
      "metadata": {
        "collapsed": true,
        "id": "L2ocA0Q5Xl9D"
      },
      "source": [
        "def normalize(x,m,s):\n",
        "    return (x - train_mean) / train_std\n",
        "\n",
        "train_mean = X_train.mean()\n",
        "train_std = X_train.std()\n",
        "\n",
        "X_train = normalize(X_train, train_mean, train_std)\n",
        "X_test = normalize(X_test, train_mean, train_std)"
      ],
      "execution_count": 4,
      "outputs": []
    },
    {
      "cell_type": "code",
      "metadata": {
        "id": "Ds1WtmpkXmAE",
        "colab": {
          "base_uri": "https://localhost:8080/"
        },
        "outputId": "9b4842c1-064a-4d2e-d433-2af1f9a44d37"
      },
      "source": [
        "print(f'Training Mean after standardization {X_train.mean():.3f}')\n",
        "print(f'Training Std after standardization {X_train.std():.3f}')\n",
        "print(f'Test Mean after standardization {X_test.mean():.3f}')\n",
        "print(f'Test Std after standardization {X_test.std():.3f}')"
      ],
      "execution_count": 5,
      "outputs": [
        {
          "output_type": "stream",
          "name": "stdout",
          "text": [
            "Training Mean after standardization -0.000\n",
            "Training Std after standardization 1.000\n",
            "Test Mean after standardization 0.002\n",
            "Test Std after standardization 0.998\n"
          ]
        }
      ]
    },
    {
      "cell_type": "code",
      "source": [
        "from tensorflow.keras.models import Sequential\n",
        "from tensorflow.keras.layers import Flatten, Dense\n",
        "\n",
        "model = Sequential([\n",
        "    Flatten(),\n",
        "    Dense(512, activation='relu'),\n",
        "    Dense(10, activation='softmax')\n",
        "])\n",
        "\n",
        "model.compile(optimizer='adam',\n",
        "              loss='sparse_categorical_crossentropy',\n",
        "              metrics=['accuracy'])\n",
        "\n",
        "model.fit(X_train, y_train, epochs=2, validation_data=(X_test, y_test))"
      ],
      "metadata": {
        "colab": {
          "base_uri": "https://localhost:8080/"
        },
        "id": "b1BcOHIResH4",
        "outputId": "f08e1fc4-b487-4580-f777-b84cadf35ded"
      },
      "execution_count": 6,
      "outputs": [
        {
          "output_type": "stream",
          "name": "stdout",
          "text": [
            "Epoch 1/2\n",
            "1875/1875 [==============================] - 13s 7ms/step - loss: 0.4487 - accuracy: 0.8388 - val_loss: 0.4277 - val_accuracy: 0.8407\n",
            "Epoch 2/2\n",
            "1875/1875 [==============================] - 13s 7ms/step - loss: 0.3454 - accuracy: 0.8727 - val_loss: 0.3706 - val_accuracy: 0.8647\n"
          ]
        },
        {
          "output_type": "execute_result",
          "data": {
            "text/plain": [
              "<keras.callbacks.History at 0x7f228dfe7580>"
            ]
          },
          "metadata": {},
          "execution_count": 6
        }
      ]
    },
    {
      "cell_type": "code",
      "source": [
        "# TODO: Reshape the dataset in order to add the channel dimension\n",
        "X_train = X_train.reshape((len(X_train), 28, 28,1))\n",
        "X_test = X_test.reshape((len(X_test), 28, 28,1))"
      ],
      "metadata": {
        "id": "u7cuFSw_e1r4"
      },
      "execution_count": 17,
      "outputs": []
    },
    {
      "cell_type": "code",
      "source": [
        "num_classes = len(set(y_train))\n",
        "img_height=28\n",
        "img_width=28\n",
        "channels=1"
      ],
      "metadata": {
        "id": "Rvmbff0vNGFL"
      },
      "execution_count": 22,
      "outputs": []
    },
    {
      "cell_type": "code",
      "source": [
        "from tensorflow.keras.layers import Conv2D, MaxPooling2D,Flatten,Dense\n",
        "\n",
        "#teste com lenet5\n",
        "model = Sequential([\n",
        "    Conv2D(6, kernel_size=(5, 5), activation='relu', input_shape=(img_height, img_width, channels)),\n",
        "    MaxPooling2D(pool_size=(2, 2)),\n",
        "    Conv2D(16, kernel_size=(5, 5), activation='relu'),\n",
        "    MaxPooling2D(pool_size=(2, 2)),\n",
        "    Flatten(),\n",
        "    Dense(120, activation='relu'),\n",
        "    Dense(84, activation='relu'),\n",
        "    Dense(num_classes, activation='softmax')\n",
        "])\n",
        "\n",
        "model.compile(optimizer=\"adam\", loss=\"sparse_categorical_crossentropy\", metrics=[\"accuracy\"])\n",
        "\n",
        "\n",
        "model.fit(X_train, y_train, epochs=50, validation_data=(X_test, y_test))"
      ],
      "metadata": {
        "colab": {
          "base_uri": "https://localhost:8080/"
        },
        "id": "qDnhtWKZGReD",
        "outputId": "9646be5d-1988-4ad1-c67f-0cf52a7e03df"
      },
      "execution_count": null,
      "outputs": [
        {
          "output_type": "stream",
          "name": "stdout",
          "text": [
            "Epoch 1/50\n",
            "1875/1875 [==============================] - 40s 21ms/step - loss: 0.5109 - accuracy: 0.8147 - val_loss: 0.3823 - val_accuracy: 0.8612\n",
            "Epoch 2/50\n",
            "1875/1875 [==============================] - 34s 18ms/step - loss: 0.3521 - accuracy: 0.8709 - val_loss: 0.3549 - val_accuracy: 0.8709\n",
            "Epoch 3/50\n",
            " 995/1875 [==============>...............] - ETA: 14s - loss: 0.3143 - accuracy: 0.8841"
          ]
        }
      ]
    },
    {
      "cell_type": "code",
      "source": [
        "import numpy as np\n",
        "import matplotlib.pyplot as plt\n",
        "\n",
        "label_names = {0:\"T-shirt/top\",\n",
        "               1:\"Trouser\",\n",
        "               2:\"Pullover\",\n",
        "               3:\"Dress\",\n",
        "               4:\"Coat\",\n",
        "               5:\"Sandal\",\n",
        "               6:\"Shirt\",\n",
        "               7:\"Sneaker\",\n",
        "               8:\"Bag\",\n",
        "               9:\"Ankle boot\"}\n",
        "\n",
        "# Index to be visualized\n",
        "for idx in range(5):\n",
        "    plt.imshow(X_test[idx].reshape(28,28), cmap='gray')\n",
        "    out = model.predict(X_test[idx].reshape(1,28,28,1))\n",
        "    plt.title(\"True: {}, Pred: {}\".format(label_names[y_test[idx]], label_names[np.argmax(out)]))\n",
        "    plt.show()"
      ],
      "metadata": {
        "id": "XP-5SpC2NVQA"
      },
      "execution_count": null,
      "outputs": []
    }
  ]
}